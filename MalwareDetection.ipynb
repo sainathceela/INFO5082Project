{
 "cells": [
  {
   "cell_type": "code",
   "execution_count": 6,
   "metadata": {},
   "outputs": [],
   "source": [
    "#loading packages\n",
    "import os\n",
    "import FeaturesData\n",
    "import numpy as np\n",
    "import pandas as pd\n",
    "from sklearn.model_selection import train_test_split \n",
    "from sklearn.metrics import accuracy_score\n",
    "from keras.layers import  MaxPooling2D\n",
    "from keras.layers import Dense, Dropout, Activation, Flatten\n",
    "from keras.layers import Convolution2D\n",
    "from keras.models import Sequential\n",
    "from keras.models import model_from_json\n",
    "import pickle\n",
    "from keras.utils.np_utils import to_categorical\n",
    "import matplotlib.pyplot as plt\n"
   ]
  },
  {
   "cell_type": "code",
   "execution_count": 23,
   "metadata": {},
   "outputs": [
    {
     "name": "stdout",
     "output_type": "stream",
     "text": [
      "WARNING: EMBER feature version 2 were computed using lief version 0.9.0-\n",
      "WARNING:   lief version 0.11.4-dd13711 found instead. There may be slight inconsistencies\n",
      "WARNING:   in the feature calculations.\n",
      "X Features : (5000, 2381, 1, 1)\n",
      "Y Labels : (5000, 2)\n",
      "Train size : 4000\n",
      "Test Size : 1000\n"
     ]
    },
    {
     "data": {
      "image/png": "[encoded data removed]",
      "text/plain": [
       "<Figure size 432x288 with 1 Axes>"
      ]
     },
     "metadata": {
      "needs_background": "light"
     },
     "output_type": "display_data"
    }
   ],
   "source": [
    "#reading ember dataset and then splitting into train and test\n",
    "data_dir = \"data1/ember2018/\"\n",
    "X, Y = FeaturesData.read_vectorized_features(data_dir,\"train\")\n",
    "X = X[0:5000]\n",
    "Y = Y[0:5000]\n",
    "labels,count = np.unique(Y, return_counts=True)\n",
    "Y = to_categorical(Y)\n",
    "X = np.reshape(X, (X.shape[0], X.shape[1], 1, 1))\n",
    "X_train, X_test, y_train, y_test = train_test_split(X, Y, test_size=0.2,random_state = 0)\n",
    "print(\"X Features : \"+str(X.shape))\n",
    "print(\"Y Labels : \"+str(Y.shape))\n",
    "print(\"Train size : \"+str(X_train.shape[0]))\n",
    "print(\"Test Size : \"+str(X_test.shape[0]))\n",
    "y_pos = np.arange(len(labels))\n",
    "plt.bar(y_pos, count)\n",
    "plt.xticks(y_pos,labels)\n",
    "plt.title(\"Malware Labels Graph\")\n",
    "plt.show()    \n"
   ]
  },
  {
   "cell_type": "code",
   "execution_count": 10,
   "metadata": {},
   "outputs": [
    {
     "name": "stdout",
     "output_type": "stream",
     "text": [
      "Model: \"sequential_1\"\n",
      "_________________________________________________________________\n",
      "Layer (type)                 Output Shape              Param #   \n",
      "=================================================================\n",
      "conv2d_1 (Conv2D)            (None, 2381, 1, 32)       64        \n",
      "_________________________________________________________________\n",
      "max_pooling2d_1 (MaxPooling2 (None, 2381, 1, 32)       0         \n",
      "_________________________________________________________________\n",
      "conv2d_2 (Conv2D)            (None, 2381, 1, 32)       1056      \n",
      "_________________________________________________________________\n",
      "max_pooling2d_2 (MaxPooling2 (None, 2381, 1, 32)       0         \n",
      "_________________________________________________________________\n",
      "flatten_1 (Flatten)          (None, 76192)             0         \n",
      "_________________________________________________________________\n",
      "dense_1 (Dense)              (None, 256)               19505408  \n",
      "_________________________________________________________________\n",
      "dense_2 (Dense)              (None, 2)                 514       \n",
      "=================================================================\n",
      "Total params: 19,507,042\n",
      "Trainable params: 19,507,042\n",
      "Non-trainable params: 0\n",
      "_________________________________________________________________\n",
      "None\n",
      "Training Model Accuracy = 83.66000056266785\n",
      "CNN Accuracy on test data : 86.0\n"
     ]
    }
   ],
   "source": [
    "#building CNN model and then if model exists then load it else create model from scratch\n",
    "if os.path.exists('model/model.json'):\n",
    "    #loading CNN model\n",
    "    with open('model/model.json', \"r\") as json_file:\n",
    "        loaded_model_json = json_file.read()\n",
    "        classifier = model_from_json(loaded_model_json)\n",
    "    classifier.load_weights(\"model/model_weights.h5\")\n",
    "    classifier._make_predict_function()   \n",
    "    print(classifier.summary())\n",
    "    f = open('model/history.pckl', 'rb')\n",
    "    data = pickle.load(f)\n",
    "    f.close()\n",
    "    acc = data['accuracy']\n",
    "    accuracy = acc[9] * 100\n",
    "    print(\"Training Model Accuracy = \"+str(accuracy))\n",
    "else:\n",
    "    #creating and compiling and training CNN model on ember data\n",
    "    classifier = Sequential()\n",
    "    classifier.add(Convolution2D(32, 1, 1, input_shape = (X.shape[1], 1, 1), activation = 'relu'))\n",
    "    classifier.add(MaxPooling2D(pool_size = (1, 1)))\n",
    "    classifier.add(Convolution2D(32, 1, 1, activation = 'relu'))\n",
    "    classifier.add(MaxPooling2D(pool_size = (1, 1)))\n",
    "    classifier.add(Flatten())\n",
    "    classifier.add(Dense(output_dim = 256, activation = 'relu'))\n",
    "    classifier.add(Dense(output_dim = Y.shape[1], activation = 'softmax'))\n",
    "    print(classifier.summary())\n",
    "    classifier.compile(optimizer = 'adam', loss = 'categorical_crossentropy', metrics = ['accuracy'])\n",
    "    hist = classifier.fit(X, Y, batch_size=16, epochs=10, shuffle=True, verbose=2)\n",
    "    classifier.save_weights('model/model_weights.h5')            \n",
    "    model_json = classifier.to_json()\n",
    "    with open(\"model/model.json\", \"w\") as json_file:\n",
    "        json_file.write(model_json)\n",
    "    f = open('model/history.pckl', 'wb')\n",
    "    pickle.dump(hist.history, f)\n",
    "    f.close()\n",
    "predict = classifier.predict(X_test)\n",
    "predict = np.argmax(predict, axis=1)\n",
    "y_temp = np.argmax(y_test, axis=1)\n",
    "accuracy = accuracy_score(y_temp,predict)*100  \n",
    "print(\"CNN Accuracy on test data : \"+str(accuracy))"
   ]
  },
  {
   "cell_type": "code",
   "execution_count": 11,
   "metadata": {},
   "outputs": [
    {
     "data": {
      "image/png": "[encoded data removed]",
      "text/plain": [
       "<Figure size 720x432 with 1 Axes>"
      ]
     },
     "metadata": {
      "needs_background": "light"
     },
     "output_type": "display_data"
    }
   ],
   "source": [
    "#CNN LOSS and accuracy graph\n",
    "f = open('model/history.pckl', 'rb')\n",
    "data = pickle.load(f)\n",
    "f.close()\n",
    "acc = data['accuracy']\n",
    "loss = data['loss']\n",
    "plt.figure(figsize=(10,6))\n",
    "plt.grid(True)\n",
    "plt.xlabel('Epoch')\n",
    "plt.ylabel('Accuracy/Loss')\n",
    "plt.plot(acc, 'ro-', color = 'green')\n",
    "plt.plot(loss, 'ro-', color = 'blue')\n",
    "plt.legend(['Accuracy', 'Loss'], loc='upper left')\n",
    "#plt.xticks(wordloss.index)\n",
    "plt.title('CNN Epoch Wise Accuracy & Loss Graph')\n",
    "plt.show()\n"
   ]
  },
  {
   "cell_type": "code",
   "execution_count": 13,
   "metadata": {},
   "outputs": [
    {
     "name": "stdout",
     "output_type": "stream",
     "text": [
      "WARNING: EMBER feature version 2 were computed using lief version 0.9.0-\n",
      "WARNING:   lief version 0.11.4-dd13711 found instead. There may be slight inconsistencies\n",
      "WARNING:   in the feature calculations.\n",
      "Random Forest Model Accuracy : 60.8\n",
      "Decision Tree Model Accuracy : 60.8\n"
     ]
    },
    {
     "data": {
      "image/png": "[encoded data removed]",
      "text/plain": [
       "<Figure size 432x288 with 1 Axes>"
      ]
     },
     "metadata": {
      "needs_background": "light"
     },
     "output_type": "display_data"
    }
   ],
   "source": [
    "#training machine learning algorithms using ember malware dataset\n",
    "from sklearn.ensemble import RandomForestClassifier\n",
    "from sklearn.tree import DecisionTreeClassifier\n",
    "#loading dataset\n",
    "data_dir = \"C:/acc/EagerClient/data1/ember2018/\"\n",
    "XX, YY = FeaturesData.read_vectorized_features(data_dir,\"train\")\n",
    "XX = XX[0:5000]\n",
    "YY = YY[0:5000]\n",
    "#splitting dataset into train and test\n",
    "X_train, X_test, y_train, y_test = train_test_split(XX, YY, test_size=0.2,random_state = 0)\n",
    "rfc = RandomForestClassifier(random_state=42)\n",
    "#training random forest classifier\n",
    "rfc.fit(X_train,y_train)\n",
    "predict = rfc.predict(X_test) \n",
    "random_forest_acc = accuracy_score(y_test,predict)*100\n",
    "print(\"Random Forest Model Accuracy : \"+str(random_forest_acc))\n",
    "\n",
    "dt = DecisionTreeClassifier(random_state=42)\n",
    "#training decision tree classifier\n",
    "dt.fit(X_train, y_train)\n",
    "#prediction on test data and then calculating accuracy\n",
    "predict = dt.predict(X_test) \n",
    "decision_tree_acc = accuracy_score(y_test,predict)*100\n",
    "print(\"Decision Tree Model Accuracy : \"+str(random_forest_acc))\n",
    "\n",
    "height = [accuracy,random_forest_acc,decision_tree_acc]\n",
    "bars = ('CNN Accuracy','Random Forest Accuracy','Decision Tree Accuracy')\n",
    "y_pos = np.arange(len(bars))\n",
    "plt.bar(y_pos, height)\n",
    "plt.xticks(y_pos, bars)\n",
    "plt.title(\"Machine Learning & Deep Learning Accuracy Comparison Graph\")\n",
    "plt.show()\n"
   ]
  },
  {
   "cell_type": "code",
   "execution_count": 20,
   "metadata": {},
   "outputs": [
    {
     "name": "stdout",
     "output_type": "stream",
     "text": [
      "WARNING: EMBER feature version 2 were computed using lief version 0.9.0-\n",
      "WARNING:   lief version 0.11.4-dd13711 found instead. There may be slight inconsistencies\n",
      "WARNING:   in the feature calculations.\n",
      "Given antialias.exe is NORMAL file\n"
     ]
    }
   ],
   "source": [
    "#Malware Prediction Code with normal file\n",
    "from features import PEFeatureExtractor\n",
    "testFile = 'antialias.exe'\n",
    "file_data = open(testFile, \"rb\").read()\n",
    "extractor = PEFeatureExtractor(2)\n",
    "features = np.array(extractor.feature_vector(file_data), dtype=np.float32)\n",
    "test = []\n",
    "test.append(features)\n",
    "test = np.asarray(test)\n",
    "test = np.reshape(test, (test.shape[0], test.shape[1], 1, 1))\n",
    "predict = classifier.predict(test)\n",
    "predict = np.argmax(predict)\n",
    "if predict == 0:\n",
    "    print(\"\\nGiven \"+testFile+\" is NORMAL file\\n\")\n",
    "else:\n",
    "    print(\"\\nGiven \"+testFile+\" is MALWARE file\\n\")"
   ]
  },
  {
   "cell_type": "code",
   "execution_count": 21,
   "metadata": {},
   "outputs": [
    {
     "name": "stdout",
     "output_type": "stream",
     "text": [
      "WARNING: EMBER feature version 2 were computed using lief version 0.9.0-\n",
      "WARNING:   lief version 0.11.4-dd13711 found instead. There may be slight inconsistencies\n",
      "WARNING:   in the feature calculations.\n",
      "\n",
      "Given VirusShare_13c63e0329202076f45796dba3ed6b8f.exe is MALWARE file\n",
      "\n"
     ]
    }
   ],
   "source": [
    "#Malware Prediction Code with virus file\n",
    "from features import PEFeatureExtractor\n",
    "testFile = 'VirusShare_13c63e0329202076f45796dba3ed6b8f.exe'\n",
    "file_data = open(testFile, \"rb\").read()\n",
    "extractor = PEFeatureExtractor(2)\n",
    "features = np.array(extractor.feature_vector(file_data), dtype=np.float32)\n",
    "test = []\n",
    "test.append(features)\n",
    "test = np.asarray(test)\n",
    "test = np.reshape(test, (test.shape[0], test.shape[1], 1, 1))\n",
    "predict = classifier.predict(test)\n",
    "predict = np.argmax(predict)\n",
    "if predict == 0:\n",
    "    print(\"\\nGiven \"+testFile+\" is NORMAL file\\n\")\n",
    "else:\n",
    "    print(\"\\nGiven \"+testFile+\" is MALWARE file\\n\")"
   ]
  },
  {
   "cell_type": "code",
   "execution_count": null,
   "metadata": {},
   "outputs": [],
   "source": []
  }
 ],
 "metadata": {
  "kernelspec": {
   "display_name": "Python 3",
   "language": "python",
   "name": "python3"
  },
  "language_info": {
   "codemirror_mode": {
    "name": "ipython",
    "version": 3
   },
   "file_extension": ".py",
   "mimetype": "text/x-python",
   "name": "python",
   "nbconvert_exporter": "python",
   "pygments_lexer": "ipython3",
   "version": "3.7.0"
  }
 },
 "nbformat": 4,
 "nbformat_minor": 4
}
